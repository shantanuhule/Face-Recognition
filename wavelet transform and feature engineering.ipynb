{
 "cells": [
  {
   "cell_type": "code",
   "execution_count": 1,
   "metadata": {},
   "outputs": [],
   "source": [
    "# preprocessing : Use wavelet transfrom as  a feature  for training our model \n",
    "#In wavelet transformed image,  \n",
    "#         you can see edges clearly and that can give us clues on various facial features such as eyes, nose, lips etc\n",
    "\n"
   ]
  },
  {
   "cell_type": "code",
   "execution_count": 2,
   "metadata": {},
   "outputs": [],
   "source": [
    "#wavelet transform"
   ]
  },
  {
   "cell_type": "code",
   "execution_count": 3,
   "metadata": {},
   "outputs": [],
   "source": [
    "import numpy as np\n",
    "import pywt\n",
    "import cv2"
   ]
  },
  {
   "cell_type": "code",
   "execution_count": null,
   "metadata": {},
   "outputs": [],
   "source": [
    "def w2d(img,mode='haar',level=1):\n",
    "    imArray=img\n",
    "    #Datatype conversion\n",
    "    #Converting to grayscale\n",
    "    imArray=cv2.cvtColor(imArray,cv2.COLOR_RGB2GRAY)\n",
    "    #Convert to float\n",
    "    imArray=np.float32(imArray)\n",
    "    imArray/=255;\n",
    "    #compute coefficants \n",
    "    coeffs=pywt.wavedec2(imArray,mode,level=level)\n",
    "    \n",
    "    #Process coefficients\n",
    "    coeffs_H=list(coeffs)\n",
    "    coeffs_H[0]*=0;\n",
    "    \n",
    "    #reconstruction\n",
    "    imArray_H=pywt.waverec2(coeffs_H,mode);\n",
    "    imArray_H*=255;\n",
    "    imArray_H=np.unit8(imArray_H)\n",
    "    \n",
    "    return imArray_H\n",
    "\n",
    "    "
   ]
  }
 ],
 "metadata": {
  "kernelspec": {
   "display_name": "Python 3",
   "language": "python",
   "name": "python3"
  },
  "language_info": {
   "codemirror_mode": {
    "name": "ipython",
    "version": 3
   },
   "file_extension": ".py",
   "mimetype": "text/x-python",
   "name": "python",
   "nbconvert_exporter": "python",
   "pygments_lexer": "ipython3",
   "version": "3.8.5"
  }
 },
 "nbformat": 4,
 "nbformat_minor": 4
}
